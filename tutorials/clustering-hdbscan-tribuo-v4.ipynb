{
 "cells": [
  {
   "cell_type": "markdown",
   "metadata": {},
   "source": [
    "# HDBSCAN* Clustering Tutorial\n",
    "\n",
    "This guide will show how to use Tribuo’s HDBSCAN* clustering package to find clusters and outliers using a toy dataset. We'll also look at how to visualize the results and make predictions for new data points.\n",
    "\n",
    "## Setup\n",
    "\n",
    "We'll load in some jars and import a few packages. The xchart jar is needed for the plots, and can be downloaded from [Maven Central](https://search.maven.org/artifact/org.knowm.xchart/xchart/3.8.1/jar)"
   ]
  },
  {
   "cell_type": "code",
   "execution_count": 1,
   "metadata": {},
   "outputs": [],
   "source": [
    "%jars ./tribuo-clustering-hdbscan-4.3.0-SNAPSHOT-jar-with-dependencies.jar\n",
    "%jars ./xchart-3.8.1.jar"
   ]
  },
  {
   "cell_type": "code",
   "execution_count": 2,
   "metadata": {},
   "outputs": [],
   "source": [
    "import org.tribuo.*;\n",
    "import org.tribuo.clustering.*;\n",
    "import org.tribuo.clustering.hdbscan.*;\n",
    "import org.tribuo.data.columnar.*;\n",
    "import org.tribuo.data.columnar.processors.field.DoubleFieldProcessor;\n",
    "import org.tribuo.data.columnar.processors.response.EmptyResponseProcessor;\n",
    "import org.tribuo.data.csv.CSVDataSource;\n",
    "import org.knowm.xchart.*;\n",
    "import org.knowm.xchart.style.markers.*;\n",
    "import java.awt.Color;\n",
    "import java.nio.file.Paths;\n",
    "import java.util.*;"
   ]
  },
  {
   "cell_type": "markdown",
   "metadata": {},
   "source": [
    "## Declare some methods to help with plotting\n",
    "We'll declare a few methods that are useful for visualizing the results. If you're not really interested in how this is done, just skip down to the next heading."
   ]
  },
  {
   "cell_type": "code",
   "execution_count": 3,
   "metadata": {},
   "outputs": [],
   "source": [
    "// A method to get a new instance of a chart, configured the same way each time\n",
    "XYChart getNewXYChart(String title) {\n",
    "    XYChart chart = new XYChartBuilder().width(600).height(400).title(title).xAxisTitle(\"X\").yAxisTitle(\"Y\").build();\n",
    "    chart.getStyler().setDefaultSeriesRenderStyle(XYSeries.XYSeriesRenderStyle.Scatter);\n",
    "    chart.getStyler().setChartTitleVisible(false);\n",
    "    chart.getStyler().setLegendVisible(false);\n",
    "    chart.getStyler().setMarkerSize(8);\n",
    "    chart.getStyler().setPlotGridHorizontalLinesVisible(false);\n",
    "    chart.getStyler().setPlotGridVerticalLinesVisible(false);\n",
    "    return chart;\n",
    "}"
   ]
  },
  {
   "cell_type": "code",
   "execution_count": 4,
   "metadata": {},
   "outputs": [],
   "source": [
    "// A method to add a set of (x,y) points to a chart\n",
    "void addSeriesToChart(XYChart chart, List<Double> xList, List<Double> yList, String seriesName, Color color, Marker marker) {\n",
    "    XYSeries xYseries = chart.addSeries(seriesName,\n",
    "        xList.stream().mapToDouble(Double::doubleValue).toArray(),\n",
    "        yList.stream().mapToDouble(Double::doubleValue).toArray());\n",
    "    xYseries.setMarkerColor(color);\n",
    "    xYseries.setMarker(marker);\n",
    "}"
   ]
  },
  {
   "cell_type": "code",
   "execution_count": 5,
   "metadata": {},
   "outputs": [],
   "source": [
    "// A method to multiple sets of (x,y) points to a chart\n",
    "void addAllSeriesToChart(XYChart chart, Map<Integer, List<Double>> mapX, Map<Integer, List<Double>> mapY, Queue<Color> colors) {\n",
    "    for (Map.Entry<Integer, List<Double>> entry : mapX.entrySet()) {\n",
    "        if (entry.getKey() == 0) {    // The Outlier label\n",
    "            List<Double> xList = entry.getValue();\n",
    "            List<Double> yList = mapY.get(0);\n",
    "            addSeriesToChart(chart, xList, yList, \"Points\" + entry.getKey(), Color.darkGray, SeriesMarkers.CIRCLE);\n",
    "        } else {                      // Valid Cluster labels\n",
    "            List<Double> xList = entry.getValue();\n",
    "            List<Double> yList = mapY.get(entry.getKey());\n",
    "            addSeriesToChart(chart, xList, yList, \"Points\" + entry.getKey(), colors.poll(), SeriesMarkers.CIRCLE);\n",
    "        }\n",
    "    }\n",
    "}"
   ]
  },
  {
   "cell_type": "code",
   "execution_count": 6,
   "metadata": {},
   "outputs": [],
   "source": [
    "// A method which extracts the (x,y) points from the dataset\n",
    "void setXandYListsFromDataset(List<Double> xList, List<Double> yList, Dataset<ClusterID> dataset) {\n",
    "    for (Example<ClusterID> ex : dataset) {\n",
    "        int i = 0;\n",
    "        for (Feature f : ex) {\n",
    "            if (i == 0)  xList.add(f.getValue());\n",
    "            if (i == 1)  yList.add(f.getValue());\n",
    "            i++;\n",
    "        }\n",
    "    }\n",
    "}"
   ]
  },
  {
   "cell_type": "markdown",
   "metadata": {},
   "source": [
    "## Dataset\n",
    "The toy dataset we'll be using is a small set of 2-dimensional points. A dataset like this with so few samples and only 2 features isn't very realistic, but makes it easy to see how to use Tribuo's HDBSCAN* clustering package.\n",
    "\n",
    "First, we'll load the training data."
   ]
  },
  {
   "cell_type": "code",
   "execution_count": 7,
   "metadata": {},
   "outputs": [],
   "source": [
    "Map<String, FieldProcessor> regexMappingProcessors = new HashMap<>();\n",
    "regexMappingProcessors.put(\"Feature1\", new DoubleFieldProcessor(\"Feature1\"));\n",
    "regexMappingProcessors.put(\"Feature2\", new DoubleFieldProcessor(\"Feature2\"));\n",
    "RowProcessor<ClusterID> rowProcessor = new RowProcessor<>(new EmptyResponseProcessor<>(new ClusteringFactory()), regexMappingProcessors);\n",
    "\n",
    "var csvDataSource = new CSVDataSource<>(Paths.get(\"simple-2d-data/simple-2d-data-train.csv\"), rowProcessor, false);\n",
    "var dataset = new MutableDataset<>(csvDataSource);"
   ]
  },
  {
   "cell_type": "markdown",
   "metadata": {},
   "source": [
    "Now, we can look at a plot of the points."
   ]
  },
  {
   "cell_type": "code",
   "execution_count": 8,
   "metadata": {},
   "outputs": [
    {
     "data": {
      "image/png": "[encoded data removed]",
      "text/plain": [
       "BufferedImage@5c4722f0: type = 1 DirectColorModel: rmask=ff0000 gmask=ff00 bmask=ff amask=0 IntegerInterleavedRaster: width = 600 height = 400 #Bands = 3 xOff = 0 yOff = 0 dataOffset[0] 0"
      ]
     },
     "execution_count": 8,
     "metadata": {},
     "output_type": "execute_result"
    }
   ],
   "source": [
    "List<Double> xList = new ArrayList<>();\n",
    "List<Double> yList = new ArrayList<>();\n",
    "setXandYListsFromDataset(xList, yList, dataset);\n",
    "\n",
    "var chart = getNewXYChart(\"Dataset\");\n",
    "addSeriesToChart(chart, xList, yList, \"Points\", Color.blue, SeriesMarkers.CIRCLE);\n",
    "BitmapEncoder.getBufferedImage(chart);"
   ]
  },
  {
   "cell_type": "markdown",
   "metadata": {},
   "source": [
    "## Model Training\n",
    "We'll fit an HDBSCAN* model using a minimum cluster size of 5. This defines the minimum number of points required to form a cluster."
   ]
  },
  {
   "cell_type": "code",
   "execution_count": 9,
   "metadata": {},
   "outputs": [],
   "source": [
    "var trainer = new HdbscanTrainer(5);\n",
    "var model = trainer.train(dataset);"
   ]
  },
  {
   "cell_type": "markdown",
   "metadata": {},
   "source": [
    "Querying the model, we can see that 4 different cluster labels were identified. The cluster label 0 is the outlier label and indicates that some points in the dataset are marked as outliers or noise. That means the model found 3 distict clusters and some outlier points."
   ]
  },
  {
   "cell_type": "code",
   "execution_count": 10,
   "metadata": {},
   "outputs": [
    {
     "name": "stdout",
     "output_type": "stream",
     "text": [
      "[0, 3, 4, 5]\n"
     ]
    }
   ],
   "source": [
    "var clusterLabels = model.getClusterLabels();\n",
    "var labelsSet = new HashSet<>(clusterLabels);\n",
    "System.out.println(labelsSet);"
   ]
  },
  {
   "cell_type": "markdown",
   "metadata": {},
   "source": [
    "Using the cluster labels discovered by the model, we can organize the data to make it easy to visualize."
   ]
  },
  {
   "cell_type": "code",
   "execution_count": 11,
   "metadata": {},
   "outputs": [],
   "source": [
    "Map<Integer, List<Double>> mapX = new HashMap<>();\n",
    "Map<Integer, List<Double>> mapY = new HashMap<>();\n",
    "int i = 0;\n",
    "for (Integer label : clusterLabels) {\n",
    "    List<Double> lx = mapX.computeIfAbsent(label, p -> new ArrayList<>());\n",
    "    lx.add(xList.get(i));\n",
    "    List<Double> ly = mapY.computeIfAbsent(label, p -> new ArrayList<>());\n",
    "    ly.add(yList.get(i));\n",
    "    i++;\n",
    "}"
   ]
  },
  {
   "cell_type": "markdown",
   "metadata": {},
   "source": [
    "Now, let's see that visualization."
   ]
  },
  {
   "cell_type": "code",
   "execution_count": 12,
   "metadata": {},
   "outputs": [
    {
     "data": {
      "image/png": "[encoded data removed]",
      "text/plain": [
       "BufferedImage@4d071d36: type = 1 DirectColorModel: rmask=ff0000 gmask=ff00 bmask=ff amask=0 IntegerInterleavedRaster: width = 600 height = 400 #Bands = 3 xOff = 0 yOff = 0 dataOffset[0] 0"
      ]
     },
     "execution_count": 12,
     "metadata": {},
     "output_type": "execute_result"
    }
   ],
   "source": [
    "// Since there are 3 distict clusters, we add 3 different colors to a queue to be used in the chart.\n",
    "Queue<Color> colors = new ArrayDeque<>();\n",
    "colors.add(Color.cyan); colors.add(Color.green); colors.add(Color.magenta);\n",
    "\n",
    "chart = getNewXYChart(\"Cluster Result\");\n",
    "addAllSeriesToChart(chart,  mapX,  mapY, colors);\n",
    "BitmapEncoder.getBufferedImage(chart);"
   ]
  },
  {
   "cell_type": "markdown",
   "metadata": {},
   "source": [
    "## Outlier Scores\n",
    "An HDBSCAN* model calculates an outlier score for each point. These are values between 0 and 1, where points with higher outlier scores are more likely to be outliers. For example, we can query the model to see the outlier score for point (1.3, 4.31), which happens to be the point at index 9 in the dataset."
   ]
  },
  {
   "cell_type": "code",
   "execution_count": 13,
   "metadata": {},
   "outputs": [
    {
     "name": "stdout",
     "output_type": "stream",
     "text": [
      "0.8449704929196467\n"
     ]
    }
   ],
   "source": [
    "System.out.println(model.getOutlierScores().get(9));"
   ]
  },
  {
   "cell_type": "markdown",
   "metadata": {},
   "source": [
    "Looking at the point (1.05, 1.0) which is near the center of the green cluster, we expect a lower outlier score. For the interested reader, this point is at index 4 in the dataset."
   ]
  },
  {
   "cell_type": "code",
   "execution_count": 14,
   "metadata": {},
   "outputs": [
    {
     "name": "stdout",
     "output_type": "stream",
     "text": [
      "0.0\n"
     ]
    }
   ],
   "source": [
    "System.out.println(model.getOutlierScores().get(4));"
   ]
  },
  {
   "cell_type": "markdown",
   "metadata": {},
   "source": [
    "## Predictions\n",
    "Tribuo's HDBSCAN* clustering package conforms to the standard `Trainer` and `Model` interfaces used for the rest of Tribuo, so predictions can be made for new data points.\n",
    "\n",
    "Let's load a few new points."
   ]
  },
  {
   "cell_type": "code",
   "execution_count": 15,
   "metadata": {},
   "outputs": [],
   "source": [
    "CSVDataSource<ClusterID> csvPredictDataSource = new CSVDataSource<>(Paths.get(\"simple-2d-data/simple-2d-data-predict.csv\"), rowProcessor, false);\n",
    "Dataset<ClusterID> predictDataset = new MutableDataset<>(csvPredictDataSource);"
   ]
  },
  {
   "cell_type": "markdown",
   "metadata": {},
   "source": [
    "The new points are: (4.25, 1.5) (3.9, 4.5) and (1.5, 3.0). We can add those to the existing plot of clusters using a red diamond marker to differentiate them."
   ]
  },
  {
   "cell_type": "code",
   "execution_count": 16,
   "metadata": {},
   "outputs": [
    {
     "data": {
      "image/png": "[encoded data removed]",
      "text/plain": [
       "BufferedImage@1535978a: type = 1 DirectColorModel: rmask=ff0000 gmask=ff00 bmask=ff amask=0 IntegerInterleavedRaster: width = 600 height = 400 #Bands = 3 xOff = 0 yOff = 0 dataOffset[0] 0"
      ]
     },
     "execution_count": 16,
     "metadata": {},
     "output_type": "execute_result"
    }
   ],
   "source": [
    "xList = new ArrayList<>();\n",
    "yList = new ArrayList<>();\n",
    "setXandYListsFromDataset(xList, yList, predictDataset);\n",
    "addSeriesToChart(chart, xList, yList, \"New Points\", Color.red, SeriesMarkers.DIAMOND);\n",
    "BitmapEncoder.getBufferedImage(chart);"
   ]
  },
  {
   "cell_type": "markdown",
   "metadata": {},
   "source": [
    "Now, let's the make the prediction call."
   ]
  },
  {
   "cell_type": "code",
   "execution_count": 17,
   "metadata": {},
   "outputs": [],
   "source": [
    "var predictions = model.predict(predictDataset);"
   ]
  },
  {
   "cell_type": "markdown",
   "metadata": {},
   "source": [
    "Using the predicted cluster labels, we add the new points to the existing maps to prepare the updated data for visualization."
   ]
  },
  {
   "cell_type": "code",
   "execution_count": 18,
   "metadata": {},
   "outputs": [],
   "source": [
    "List<Integer> predictionLabels = new ArrayList<>();\n",
    "predictions.forEach(p -> predictionLabels.add(p.getOutput().getID()));\n",
    "\n",
    "i = 0;\n",
    "for (Integer label : predictionLabels) {\n",
    "    List<Double> lx = mapX.computeIfAbsent(label, p -> new ArrayList<>());\n",
    "    lx.add(xList.get(i));\n",
    "    List<Double> ly = mapY.computeIfAbsent(label, p -> new ArrayList<>());\n",
    "    ly.add(yList.get(i));\n",
    "    i++;\n",
    "}"
   ]
  },
  {
   "cell_type": "markdown",
   "metadata": {},
   "source": [
    "We could have just printed out the cluster labels for the new points, but a visualization is better."
   ]
  },
  {
   "cell_type": "code",
   "execution_count": 19,
   "metadata": {},
   "outputs": [
    {
     "data": {
      "image/png": "[encoded data removed]",
      "text/plain": [
       "BufferedImage@b571c2a: type = 1 DirectColorModel: rmask=ff0000 gmask=ff00 bmask=ff amask=0 IntegerInterleavedRaster: width = 600 height = 400 #Bands = 3 xOff = 0 yOff = 0 dataOffset[0] 0"
      ]
     },
     "execution_count": 19,
     "metadata": {},
     "output_type": "execute_result"
    }
   ],
   "source": [
    "// Again, we want to set the correct colors to be used in the chart.\n",
    "colors.add(Color.cyan); colors.add(Color.green); colors.add(Color.magenta);\n",
    "chart = getNewXYChart(\"Prediction Result\");\n",
    "addAllSeriesToChart(chart,  mapX,  mapY, colors);\n",
    "BitmapEncoder.getBufferedImage(chart);"
   ]
  },
  {
   "cell_type": "markdown",
   "metadata": {},
   "source": [
    "The point (4.25, 1.5) is marked as an outlier. The point (1.5, 3.0) is shown to belong to the magenta colored cluster in the middle. Let's check the predicted outlier scores for these two points."
   ]
  },
  {
   "cell_type": "code",
   "execution_count": 20,
   "metadata": {},
   "outputs": [
    {
     "name": "stdout",
     "output_type": "stream",
     "text": [
      "The outlier score for (4.25, 1.5) is : 0.8492520788446892\n",
      "The outlier score for (1.5, 3.0) is : 0.02241334109160653\n"
     ]
    }
   ],
   "source": [
    "System.out.println(\"The outlier score for (4.25, 1.5) is : \" + predictions.get(0).getOutput().getScore());\n",
    "System.out.println(\"The outlier score for (1.5, 3.0) is : \" + predictions.get(2).getOutput().getScore());"
   ]
  },
  {
   "cell_type": "markdown",
   "metadata": {},
   "source": [
    "## Multithreading\n",
    "Tribuo's HDBSCAN* package supports multi-threading for the core distance calculations step of the algorithm. For larger datasets, it is certainly worthwhile to train the model with multiple threads.\n",
    "\n",
    "This is how to instantiate a trainer to use 4 threads."
   ]
  },
  {
   "cell_type": "code",
   "execution_count": 21,
   "metadata": {},
   "outputs": [],
   "source": [
    "var trainer = new HdbscanTrainer(5,    // The minimum cluster size\n",
    "                                 HdbscanTrainer.Distance.EUCLIDEAN,  // The distance function \n",
    "                                 5,    // The number of neighbors to use to calculate the core-distance\n",
    "                                 4     // The number of compute threads\n",
    "                                );"
   ]
  },
  {
   "cell_type": "markdown",
   "metadata": {},
   "source": [
    "## Conclusion\n",
    "We looked at Tribuo's HDBSCAN\\* implementation and saw how to train a model, then make predictions with that model. HDBSCAN\\* stands for heirarchical density-based spatial clustering of applications with noise and yes, the original authors of the algorithm have used an asterisk in the name.\n",
    "\n",
    "We plan to further expand Tribuo's clustering functionality to incorporate other algorithms in the future. If you want to help, or have specific algorithmic requirements, file an issue on our [github page](https://github.com/oracle/tribuo)."
   ]
  }
 ],
 "metadata": {
  "kernelspec": {
   "display_name": "Java",
   "language": "java",
   "name": "java"
  },
  "language_info": {
   "codemirror_mode": "java",
   "file_extension": ".jshell",
   "mimetype": "text/x-java-source",
   "name": "Java",
   "pygments_lexer": "java",
   "version": "17+35-LTS-2724"
  }
 },
 "nbformat": 4,
 "nbformat_minor": 4
}

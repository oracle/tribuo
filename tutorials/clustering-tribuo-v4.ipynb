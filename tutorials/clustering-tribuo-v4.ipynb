{
 "cells": [
  {
   "cell_type": "markdown",
   "metadata": {},
   "source": [
    "# Clustering Tutorial\n",
    "\n",
    "This guide will show how to use Tribuo’s clustering models to find clusters in a toy dataset drawn from a mixture of Gaussians. We'll look at Tribuo's K-Means implementation and also discuss how evaluation works for clustering tasks.\n",
    "\n",
    "## Setup\n",
    "\n",
    "We'll load in some jars and import a few packages."
   ]
  },
  {
   "cell_type": "code",
   "execution_count": 1,
   "metadata": {},
   "outputs": [],
   "source": [
    "%jars ./tribuo-clustering-kmeans-4.0.0-jar-with-dependencies.jar"
   ]
  },
  {
   "cell_type": "code",
   "execution_count": 2,
   "metadata": {},
   "outputs": [],
   "source": [
    "import org.tribuo.*;\n",
    "import org.tribuo.util.Util;\n",
    "import org.tribuo.clustering.*;\n",
    "import org.tribuo.clustering.evaluation.*;\n",
    "import org.tribuo.clustering.example.ClusteringDataGenerator;\n",
    "import org.tribuo.clustering.kmeans.*;\n",
    "import org.tribuo.clustering.kmeans.KMeansTrainer.Distance;"
   ]
  },
  {
   "cell_type": "code",
   "execution_count": 3,
   "metadata": {},
   "outputs": [],
   "source": [
    "var eval = new ClusteringEvaluator();"
   ]
  },
  {
   "cell_type": "markdown",
   "metadata": {},
   "source": [
    "## Dataset\n",
    "Tribuo's clustering package comes with a simple data generator that emits data sampled from a mixture of 5 2-dimensional Gaussians (the centroids and variances are fixed). This generator gives the ground truth cluster IDs, so it can be used for demos like this. You can also use any of the standard data loaders to pull in clustering data.\n",
    "\n",
    "As it conforms to the standard `Trainer` and `Model` interface used for the rest of Tribuo, the training of a clustering algorithm doesn't produce cluster assignments that are visible, to recover the assignments we need to call `model.predict(trainData)`.\n",
    "\n",
    "We're going to sample two datasets (using different seeds) one for fitting the cluster centroids, and one to measure clustering performance."
   ]
  },
  {
   "cell_type": "code",
   "execution_count": 4,
   "metadata": {},
   "outputs": [],
   "source": [
    "var data = ClusteringDataGenerator.gaussianClusters(500, 1L);\n",
    "var test = ClusteringDataGenerator.gaussianClusters(500, 2L);"
   ]
  },
  {
   "cell_type": "markdown",
   "metadata": {},
   "source": [
    "The data generator uses the following Gaussians:\n",
    "1. `N([ 0.0,0.0], [[1.0,0.0],[0.0,1.0]])`\n",
    "2. `N([ 5.0,5.0], [[1.0,0.0],[0.0,1.0]])`\n",
    "3. `N([ 2.5,2.5], [[1.0,0.5],[0.5,1.0]])`\n",
    "4. `N([10.0,0.0], [[0.1,0.0],[0.0,0.1]])`\n",
    "5. `N([-1.0,0.0], [[1.0,0.0],[0.0,0.1]])`"
   ]
  },
  {
   "cell_type": "markdown",
   "metadata": {},
   "source": [
    "## Model Training\n",
    "We'll first fit a K-Means using 5 centroids, a maximum of 10 iterations, using the euclidean distance and a single computation thread."
   ]
  },
  {
   "cell_type": "code",
   "execution_count": 5,
   "metadata": {},
   "outputs": [
    {
     "name": "stdout",
     "output_type": "stream",
     "text": [
      "Training with 5 clusters took (00:00:00:062)\n"
     ]
    }
   ],
   "source": [
    "var trainer = new KMeansTrainer(5,10,Distance.EUCLIDEAN,1,1);\n",
    "var startTime = System.currentTimeMillis();\n",
    "var model = trainer.train(data);\n",
    "var endTime = System.currentTimeMillis();\n",
    "System.out.println(\"Training with 5 clusters took \" + Util.formatDuration(startTime,endTime));"
   ]
  },
  {
   "cell_type": "markdown",
   "metadata": {},
   "source": [
    "We can inspect the centroids by querying the model."
   ]
  },
  {
   "cell_type": "code",
   "execution_count": 6,
   "metadata": {},
   "outputs": [
    {
     "name": "stdout",
     "output_type": "stream",
     "text": [
      "DenseVector(size=2,values=[-1.7294066290817505,-0.019280856227650595])\n",
      "DenseVector(size=2,values=[2.740410056407627,2.8737688541143247])\n",
      "DenseVector(size=2,values=[0.05102068424764918,0.0757660102333321])\n",
      "DenseVector(size=2,values=[5.174977643580621,5.088149544081452])\n",
      "DenseVector(size=2,values=[9.938804461039872,-0.020702060844743055])\n"
     ]
    }
   ],
   "source": [
    "var centroids = model.getCentroidVectors();\n",
    "for (var centroid : centroids) {\n",
    "    System.out.println(centroid);\n",
    "}"
   ]
  },
  {
   "cell_type": "markdown",
   "metadata": {},
   "source": [
    "These centroids line up pretty well with the Gaussian centroids. The predicted ones line up with the true ones as follows:\n",
    "\n",
    "|Predicted|True|\n",
    "|---|---|\n",
    "|1|5|\n",
    "|2|3|\n",
    "|3|1|\n",
    "|4|2|\n",
    "|5|4|\n",
    "\n",
    "Though the first one is a bit far out as it's x_1 should be -1.0 not -1.7, and there is a little wobble in the rest. Still it's pretty good considering K-Means assumes spherical gaussians and our data generator has a covariance matrix per gaussian."
   ]
  },
  {
   "cell_type": "markdown",
   "metadata": {},
   "source": [
    "## Model evaluation\n",
    "Tribuo uses the normalized mutual information to measure the quality\n",
    "of two clusterings. This avoids the issue that swapping the id number of any given centroid doesn't change the overall clustering. We're going to compare against the ground truth cluster labels from the data generator.\n",
    "\n",
    "First for the training data:"
   ]
  },
  {
   "cell_type": "code",
   "execution_count": 7,
   "metadata": {},
   "outputs": [
    {
     "data": {
      "text/plain": [
       "Clustering Evaluation\n",
       "Normalized MI = 0.8128096132028937\n",
       "Adjusted MI = 0.8113314999600718"
      ]
     },
     "execution_count": 7,
     "metadata": {},
     "output_type": "execute_result"
    }
   ],
   "source": [
    "var trainEvaluation = eval.evaluate(model,data);\n",
    "trainEvaluation.toString();"
   ]
  },
  {
   "cell_type": "markdown",
   "metadata": {},
   "source": [
    "Then for the unseen test data:"
   ]
  },
  {
   "cell_type": "code",
   "execution_count": 8,
   "metadata": {},
   "outputs": [
    {
     "data": {
      "text/plain": [
       "Clustering Evaluation\n",
       "Normalized MI = 0.8154291916732408\n",
       "Adjusted MI = 0.8139169342020222"
      ]
     },
     "execution_count": 8,
     "metadata": {},
     "output_type": "execute_result"
    }
   ],
   "source": [
    "var testEvaluation = eval.evaluate(model,test);\n",
    "testEvaluation.toString();"
   ]
  },
  {
   "cell_type": "markdown",
   "metadata": {},
   "source": [
    "We see that as expected it's a pretty good correlation to the ground truth labels. K-Means (of the kind implemented in Tribuo) is similar to a gaussian mixture using spherical gaussians, and our data generator uses gaussians with full rank covariances, so it won't be perfect."
   ]
  },
  {
   "cell_type": "markdown",
   "metadata": {},
   "source": [
    "## Multithreading\n",
    "Tribuo's K-Means supports multi-threading of both the expectation and maximisation steps in the algorithm (i.e. the finding of the new centroids, and the assignment of points to centroids). We'll run the same experiment as before, both with 5 centroids and with 20 centroids, using 4 threads, though this time we'll use 2000 points for training."
   ]
  },
  {
   "cell_type": "code",
   "execution_count": 9,
   "metadata": {},
   "outputs": [
    {
     "name": "stdout",
     "output_type": "stream",
     "text": [
      "Training with 5 clusters on 4 threads took (00:00:00:073)\n"
     ]
    }
   ],
   "source": [
    "var mtData = ClusteringDataGenerator.gaussianClusters(2000, 1L);\n",
    "var mtTrainer = new KMeansTrainer(5,10,Distance.EUCLIDEAN,4,1);\n",
    "var mtStartTime = System.currentTimeMillis();\n",
    "var mtModel = mtTrainer.train(mtData);\n",
    "var mtEndTime = System.currentTimeMillis();\n",
    "System.out.println(\"Training with 5 clusters on 4 threads took \" + Util.formatDuration(mtStartTime,mtEndTime));"
   ]
  },
  {
   "cell_type": "markdown",
   "metadata": {},
   "source": [
    "Now with 20 centroids:"
   ]
  },
  {
   "cell_type": "code",
   "execution_count": 10,
   "metadata": {},
   "outputs": [
    {
     "name": "stdout",
     "output_type": "stream",
     "text": [
      "Training with 20 clusters on 4 threads took (00:00:00:059)\n"
     ]
    }
   ],
   "source": [
    "var overTrainer = new KMeansTrainer(20,10,Distance.EUCLIDEAN,4,1);\n",
    "var overStartTime = System.currentTimeMillis();\n",
    "var overModel = overTrainer.train(mtData);\n",
    "var overEndTime = System.currentTimeMillis();\n",
    "System.out.println(\"Training with 20 clusters on 4 threads took \" + Util.formatDuration(overStartTime,overEndTime));"
   ]
  },
  {
   "cell_type": "markdown",
   "metadata": {},
   "source": [
    "We can evaluate the two models as before, using our `ClusteringEvaluator`. First with 5 centroids:"
   ]
  },
  {
   "cell_type": "code",
   "execution_count": 11,
   "metadata": {},
   "outputs": [
    {
     "data": {
      "text/plain": [
       "Clustering Evaluation\n",
       "Normalized MI = 0.8104463467727057\n",
       "Adjusted MI = 0.8088941747451207"
      ]
     },
     "execution_count": 11,
     "metadata": {},
     "output_type": "execute_result"
    }
   ],
   "source": [
    "var mtTestEvaluation = eval.evaluate(mtModel,test);\n",
    "mtTestEvaluation.toString();"
   ]
  },
  {
   "cell_type": "markdown",
   "metadata": {},
   "source": [
    "Then with 20:"
   ]
  },
  {
   "cell_type": "code",
   "execution_count": 12,
   "metadata": {},
   "outputs": [
    {
     "data": {
      "text/plain": [
       "Clustering Evaluation\n",
       "Normalized MI = 0.8647317143685641\n",
       "Adjusted MI = 0.860327445295668"
      ]
     },
     "execution_count": 12,
     "metadata": {},
     "output_type": "execute_result"
    }
   ],
   "source": [
    "var overTestEvaluation = eval.evaluate(overModel,test);\n",
    "overTestEvaluation.toString();"
   ]
  },
  {
   "cell_type": "markdown",
   "metadata": {},
   "source": [
    "We see that the multi-threaded versions run in less time than the single threaded trainer, despite them using 4 times the training data. The 20 centroid model has a tighter fit of the test data, despite being overparameterised. This is common in clustering tasks where it's hard to balance the model fitting with complexity. We'll look at adding more performance metrics so users can diagnose such issues in future releases. "
   ]
  },
  {
   "cell_type": "markdown",
   "metadata": {},
   "source": [
    "## Conclusion\n",
    "We looked at clustering using Tribuo's K-Means implementation, comparing both the single-threaded and multi-threaded versions, then looked at the performance metrics available when there are ground truth clusterings.\n",
    "\n",
    "We plan to further expand Tribuo's clustering functionality to incorporate other algorithms in the future. If you want to help, or have specific algorithmic requirements, file an issue on our [github page](https://github.com/oracle/tribuo)."
   ]
  }
 ],
 "metadata": {
  "kernelspec": {
   "display_name": "Java",
   "language": "java",
   "name": "java"
  },
  "language_info": {
   "codemirror_mode": "java",
   "file_extension": ".jshell",
   "mimetype": "text/x-java-source",
   "name": "Java",
   "pygments_lexer": "java",
   "version": "14+36-1461"
  }
 },
 "nbformat": 4,
 "nbformat_minor": 4
}
